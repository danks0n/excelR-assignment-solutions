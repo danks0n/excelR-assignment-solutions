{
  "nbformat": 4,
  "nbformat_minor": 0,
  "metadata": {
    "colab": {
      "provenance": []
    },
    "kernelspec": {
      "name": "python3",
      "display_name": "Python 3"
    },
    "language_info": {
      "name": "python"
    }
  },
  "cells": [
    {
      "cell_type": "markdown",
      "source": [
        "# Basic Stats 1 Assingment Q24 solution"
      ],
      "metadata": {
        "id": "bwhCbT5sN2Iw"
      }
    },
    {
      "cell_type": "code",
      "execution_count": 2,
      "metadata": {
        "id": "vR8_1lj6NUVZ"
      },
      "outputs": [],
      "source": [
        "import pandas as pd\n",
        "import numpy as np\n",
        "from scipy import stats"
      ]
    },
    {
      "cell_type": "code",
      "source": [
        "#df = 18 - 1 = 17\n",
        "T_statistic = (260-270)/(90/np.sqrt(18))\n",
        "T_statistic"
      ],
      "metadata": {
        "colab": {
          "base_uri": "https://localhost:8080/"
        },
        "id": "sjsx7jzdN0wM",
        "outputId": "9d008237-a8f0-4ec9-b9a7-47b094f785e7"
      },
      "execution_count": 4,
      "outputs": [
        {
          "output_type": "execute_result",
          "data": {
            "text/plain": [
              "-0.4714045207910317"
            ]
          },
          "metadata": {},
          "execution_count": 4
        }
      ]
    },
    {
      "cell_type": "code",
      "source": [
        "bulb_prob = stats.t.cdf(-0.4714 ,df = 18)\n",
        "bulb_prob"
      ],
      "metadata": {
        "colab": {
          "base_uri": "https://localhost:8080/"
        },
        "id": "g63cI_uzN0rl",
        "outputId": "f3468a73-c44a-4ff0-a68e-2cd1d5ac55b6"
      },
      "execution_count": 7,
      "outputs": [
        {
          "output_type": "execute_result",
          "data": {
            "text/plain": [
              "0.3215091831954154"
            ]
          },
          "metadata": {},
          "execution_count": 7
        }
      ]
    },
    {
      "cell_type": "code",
      "source": [
        "bulb_prob * 100"
      ],
      "metadata": {
        "colab": {
          "base_uri": "https://localhost:8080/"
        },
        "id": "0W79OS30PKkx",
        "outputId": "28c7decc-49c3-4211-d2a3-3e7cbbda3566"
      },
      "execution_count": 8,
      "outputs": [
        {
          "output_type": "execute_result",
          "data": {
            "text/plain": [
              "32.15091831954154"
            ]
          },
          "metadata": {},
          "execution_count": 8
        }
      ]
    },
    {
      "cell_type": "code",
      "source": [
        "#So for probability that randomly selected light bulbs will have an average life of no more than 260 days is 32.181%"
      ],
      "metadata": {
        "id": "Pe_sgs0hPVyS"
      },
      "execution_count": null,
      "outputs": []
    }
  ]
}